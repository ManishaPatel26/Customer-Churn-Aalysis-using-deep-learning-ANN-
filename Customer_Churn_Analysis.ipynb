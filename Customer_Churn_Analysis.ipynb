{
  "nbformat": 4,
  "nbformat_minor": 0,
  "metadata": {
    "colab": {
      "name": "Customer_Churn_Analysis.ipynb",
      "provenance": [],
      "collapsed_sections": [],
      "toc_visible": true
    },
    "kernelspec": {
      "display_name": "Python 3",
      "name": "python3"
    },
    "language_info": {
      "name": "python"
    }
  },
  "cells": [
    {
      "cell_type": "markdown",
      "metadata": {
        "id": "7OHGvE_qGXfA"
      },
      "source": [
        "#Customer Churn Analysis using Artificial Neural Network (deep learning)"
      ]
    },
    {
      "cell_type": "markdown",
      "metadata": {
        "id": "bWFbdSVgGrrE"
      },
      "source": [
        "Importing libraries"
      ]
    },
    {
      "cell_type": "code",
      "metadata": {
        "id": "Jyrg8Bg1FyWB"
      },
      "source": [
        "# Importing the libraries\n",
        "import numpy as np\n",
        "import matplotlib.pyplot as plt\n",
        "import pandas as pd\n",
        "\n",
        "from sklearn.model_selection import  train_test_split\n",
        "from sklearn.preprocessing import  StandardScaler\n",
        "\n",
        "from tensorflow import keras\n",
        "from keras.models import Sequential\n",
        "from keras.layers import Dense\n",
        "from keras.layers import Dropout\n",
        "\n",
        "from sklearn.metrics import accuracy_score\n",
        "from sklearn.metrics import confusion_matrix"
      ],
      "execution_count": null,
      "outputs": []
    },
    {
      "cell_type": "markdown",
      "metadata": {
        "id": "KMOeBKZ5GgeR"
      },
      "source": [
        "Load Data "
      ]
    },
    {
      "cell_type": "code",
      "metadata": {
        "colab": {
          "base_uri": "https://localhost:8080/",
          "height": 419
        },
        "id": "QJAR5nBCGRK5",
        "outputId": "b71d9fde-b30a-403c-cc76-3d9579ec6811"
      },
      "source": [
        "# Get the dataset\n",
        "df_data = pd.read_csv('/Churn_Modelling.csv')\n",
        "df_data\n"
      ],
      "execution_count": null,
      "outputs": [
        {
          "data": {
            "text/html": [
              "<div>\n",
              "<style scoped>\n",
              "    .dataframe tbody tr th:only-of-type {\n",
              "        vertical-align: middle;\n",
              "    }\n",
              "\n",
              "    .dataframe tbody tr th {\n",
              "        vertical-align: top;\n",
              "    }\n",
              "\n",
              "    .dataframe thead th {\n",
              "        text-align: right;\n",
              "    }\n",
              "</style>\n",
              "<table border=\"1\" class=\"dataframe\">\n",
              "  <thead>\n",
              "    <tr style=\"text-align: right;\">\n",
              "      <th></th>\n",
              "      <th>RowNumber</th>\n",
              "      <th>CustomerId</th>\n",
              "      <th>Surname</th>\n",
              "      <th>CreditScore</th>\n",
              "      <th>Geography</th>\n",
              "      <th>Gender</th>\n",
              "      <th>Age</th>\n",
              "      <th>Tenure</th>\n",
              "      <th>Balance</th>\n",
              "      <th>NumOfProducts</th>\n",
              "      <th>HasCrCard</th>\n",
              "      <th>IsActiveMember</th>\n",
              "      <th>EstimatedSalary</th>\n",
              "      <th>Exited</th>\n",
              "    </tr>\n",
              "  </thead>\n",
              "  <tbody>\n",
              "    <tr>\n",
              "      <th>0</th>\n",
              "      <td>1</td>\n",
              "      <td>15634602</td>\n",
              "      <td>Hargrave</td>\n",
              "      <td>619</td>\n",
              "      <td>France</td>\n",
              "      <td>Female</td>\n",
              "      <td>42</td>\n",
              "      <td>2</td>\n",
              "      <td>0.00</td>\n",
              "      <td>1</td>\n",
              "      <td>1</td>\n",
              "      <td>1</td>\n",
              "      <td>101348.88</td>\n",
              "      <td>1</td>\n",
              "    </tr>\n",
              "    <tr>\n",
              "      <th>1</th>\n",
              "      <td>2</td>\n",
              "      <td>15647311</td>\n",
              "      <td>Hill</td>\n",
              "      <td>608</td>\n",
              "      <td>Spain</td>\n",
              "      <td>Female</td>\n",
              "      <td>41</td>\n",
              "      <td>1</td>\n",
              "      <td>83807.86</td>\n",
              "      <td>1</td>\n",
              "      <td>0</td>\n",
              "      <td>1</td>\n",
              "      <td>112542.58</td>\n",
              "      <td>0</td>\n",
              "    </tr>\n",
              "    <tr>\n",
              "      <th>2</th>\n",
              "      <td>3</td>\n",
              "      <td>15619304</td>\n",
              "      <td>Onio</td>\n",
              "      <td>502</td>\n",
              "      <td>France</td>\n",
              "      <td>Female</td>\n",
              "      <td>42</td>\n",
              "      <td>8</td>\n",
              "      <td>159660.80</td>\n",
              "      <td>3</td>\n",
              "      <td>1</td>\n",
              "      <td>0</td>\n",
              "      <td>113931.57</td>\n",
              "      <td>1</td>\n",
              "    </tr>\n",
              "    <tr>\n",
              "      <th>3</th>\n",
              "      <td>4</td>\n",
              "      <td>15701354</td>\n",
              "      <td>Boni</td>\n",
              "      <td>699</td>\n",
              "      <td>France</td>\n",
              "      <td>Female</td>\n",
              "      <td>39</td>\n",
              "      <td>1</td>\n",
              "      <td>0.00</td>\n",
              "      <td>2</td>\n",
              "      <td>0</td>\n",
              "      <td>0</td>\n",
              "      <td>93826.63</td>\n",
              "      <td>0</td>\n",
              "    </tr>\n",
              "    <tr>\n",
              "      <th>4</th>\n",
              "      <td>5</td>\n",
              "      <td>15737888</td>\n",
              "      <td>Mitchell</td>\n",
              "      <td>850</td>\n",
              "      <td>Spain</td>\n",
              "      <td>Female</td>\n",
              "      <td>43</td>\n",
              "      <td>2</td>\n",
              "      <td>125510.82</td>\n",
              "      <td>1</td>\n",
              "      <td>1</td>\n",
              "      <td>1</td>\n",
              "      <td>79084.10</td>\n",
              "      <td>0</td>\n",
              "    </tr>\n",
              "    <tr>\n",
              "      <th>...</th>\n",
              "      <td>...</td>\n",
              "      <td>...</td>\n",
              "      <td>...</td>\n",
              "      <td>...</td>\n",
              "      <td>...</td>\n",
              "      <td>...</td>\n",
              "      <td>...</td>\n",
              "      <td>...</td>\n",
              "      <td>...</td>\n",
              "      <td>...</td>\n",
              "      <td>...</td>\n",
              "      <td>...</td>\n",
              "      <td>...</td>\n",
              "      <td>...</td>\n",
              "    </tr>\n",
              "    <tr>\n",
              "      <th>9995</th>\n",
              "      <td>9996</td>\n",
              "      <td>15606229</td>\n",
              "      <td>Obijiaku</td>\n",
              "      <td>771</td>\n",
              "      <td>France</td>\n",
              "      <td>Male</td>\n",
              "      <td>39</td>\n",
              "      <td>5</td>\n",
              "      <td>0.00</td>\n",
              "      <td>2</td>\n",
              "      <td>1</td>\n",
              "      <td>0</td>\n",
              "      <td>96270.64</td>\n",
              "      <td>0</td>\n",
              "    </tr>\n",
              "    <tr>\n",
              "      <th>9996</th>\n",
              "      <td>9997</td>\n",
              "      <td>15569892</td>\n",
              "      <td>Johnstone</td>\n",
              "      <td>516</td>\n",
              "      <td>France</td>\n",
              "      <td>Male</td>\n",
              "      <td>35</td>\n",
              "      <td>10</td>\n",
              "      <td>57369.61</td>\n",
              "      <td>1</td>\n",
              "      <td>1</td>\n",
              "      <td>1</td>\n",
              "      <td>101699.77</td>\n",
              "      <td>0</td>\n",
              "    </tr>\n",
              "    <tr>\n",
              "      <th>9997</th>\n",
              "      <td>9998</td>\n",
              "      <td>15584532</td>\n",
              "      <td>Liu</td>\n",
              "      <td>709</td>\n",
              "      <td>France</td>\n",
              "      <td>Female</td>\n",
              "      <td>36</td>\n",
              "      <td>7</td>\n",
              "      <td>0.00</td>\n",
              "      <td>1</td>\n",
              "      <td>0</td>\n",
              "      <td>1</td>\n",
              "      <td>42085.58</td>\n",
              "      <td>1</td>\n",
              "    </tr>\n",
              "    <tr>\n",
              "      <th>9998</th>\n",
              "      <td>9999</td>\n",
              "      <td>15682355</td>\n",
              "      <td>Sabbatini</td>\n",
              "      <td>772</td>\n",
              "      <td>Germany</td>\n",
              "      <td>Male</td>\n",
              "      <td>42</td>\n",
              "      <td>3</td>\n",
              "      <td>75075.31</td>\n",
              "      <td>2</td>\n",
              "      <td>1</td>\n",
              "      <td>0</td>\n",
              "      <td>92888.52</td>\n",
              "      <td>1</td>\n",
              "    </tr>\n",
              "    <tr>\n",
              "      <th>9999</th>\n",
              "      <td>10000</td>\n",
              "      <td>15628319</td>\n",
              "      <td>Walker</td>\n",
              "      <td>792</td>\n",
              "      <td>France</td>\n",
              "      <td>Female</td>\n",
              "      <td>28</td>\n",
              "      <td>4</td>\n",
              "      <td>130142.79</td>\n",
              "      <td>1</td>\n",
              "      <td>1</td>\n",
              "      <td>0</td>\n",
              "      <td>38190.78</td>\n",
              "      <td>0</td>\n",
              "    </tr>\n",
              "  </tbody>\n",
              "</table>\n",
              "<p>10000 rows × 14 columns</p>\n",
              "</div>"
            ],
            "text/plain": [
              "      RowNumber  CustomerId    Surname  ...  IsActiveMember EstimatedSalary Exited\n",
              "0             1    15634602   Hargrave  ...               1       101348.88      1\n",
              "1             2    15647311       Hill  ...               1       112542.58      0\n",
              "2             3    15619304       Onio  ...               0       113931.57      1\n",
              "3             4    15701354       Boni  ...               0        93826.63      0\n",
              "4             5    15737888   Mitchell  ...               1        79084.10      0\n",
              "...         ...         ...        ...  ...             ...             ...    ...\n",
              "9995       9996    15606229   Obijiaku  ...               0        96270.64      0\n",
              "9996       9997    15569892  Johnstone  ...               1       101699.77      0\n",
              "9997       9998    15584532        Liu  ...               1        42085.58      1\n",
              "9998       9999    15682355  Sabbatini  ...               0        92888.52      1\n",
              "9999      10000    15628319     Walker  ...               0        38190.78      0\n",
              "\n",
              "[10000 rows x 14 columns]"
            ]
          },
          "execution_count": 156,
          "metadata": {},
          "output_type": "execute_result"
        }
      ]
    },
    {
      "cell_type": "markdown",
      "metadata": {
        "id": "USk0HBCQHIGj"
      },
      "source": [
        "Data Exploration\n"
      ]
    },
    {
      "cell_type": "code",
      "metadata": {
        "colab": {
          "base_uri": "https://localhost:8080/"
        },
        "id": "yDst4ddZMR4I",
        "outputId": "f04054ce-62ed-4912-d5c8-82cbff623052"
      },
      "source": [
        "#check the number of records in dataset\n",
        "df_data.shape"
      ],
      "execution_count": null,
      "outputs": [
        {
          "data": {
            "text/plain": [
              "(10000, 14)"
            ]
          },
          "execution_count": 157,
          "metadata": {},
          "output_type": "execute_result"
        }
      ]
    },
    {
      "cell_type": "code",
      "metadata": {
        "colab": {
          "base_uri": "https://localhost:8080/"
        },
        "id": "qd1RHHcsMmr9",
        "outputId": "fd6ebb1d-b119-4411-e7f9-b0e8bb4cf9ac"
      },
      "source": [
        "#check the column names\n",
        "df_data.columns"
      ],
      "execution_count": null,
      "outputs": [
        {
          "data": {
            "text/plain": [
              "Index(['RowNumber', 'CustomerId', 'Surname', 'CreditScore', 'Geography',\n",
              "       'Gender', 'Age', 'Tenure', 'Balance', 'NumOfProducts', 'HasCrCard',\n",
              "       'IsActiveMember', 'EstimatedSalary', 'Exited'],\n",
              "      dtype='object')"
            ]
          },
          "execution_count": 158,
          "metadata": {},
          "output_type": "execute_result"
        }
      ]
    },
    {
      "cell_type": "code",
      "metadata": {
        "colab": {
          "base_uri": "https://localhost:8080/"
        },
        "id": "8NKLFFUZMkca",
        "outputId": "6aa59ad3-71b3-49b2-aadd-d3a7c48ef2a3"
      },
      "source": [
        "#check data types of each column\n",
        "df_data.dtypes"
      ],
      "execution_count": null,
      "outputs": [
        {
          "data": {
            "text/plain": [
              "RowNumber            int64\n",
              "CustomerId           int64\n",
              "Surname             object\n",
              "CreditScore          int64\n",
              "Geography           object\n",
              "Gender              object\n",
              "Age                  int64\n",
              "Tenure               int64\n",
              "Balance            float64\n",
              "NumOfProducts        int64\n",
              "HasCrCard            int64\n",
              "IsActiveMember       int64\n",
              "EstimatedSalary    float64\n",
              "Exited               int64\n",
              "dtype: object"
            ]
          },
          "execution_count": 159,
          "metadata": {},
          "output_type": "execute_result"
        }
      ]
    },
    {
      "cell_type": "code",
      "metadata": {
        "colab": {
          "base_uri": "https://localhost:8080/"
        },
        "id": "IlEb3AD4GTHP",
        "outputId": "70658353-b1e1-4467-fe04-d24b94fbcf23"
      },
      "source": [
        "#Separate features and output label\n",
        "# RowNumber, CustomerId, Surname are not important hence excluding from the feature dataset\n",
        "X = df_data.iloc[:, 3:13]\n",
        "Y = df_data.iloc[:,-1]\n",
        "#X\n",
        "Y"
      ],
      "execution_count": null,
      "outputs": [
        {
          "data": {
            "text/plain": [
              "0       1\n",
              "1       0\n",
              "2       1\n",
              "3       0\n",
              "4       0\n",
              "       ..\n",
              "9995    0\n",
              "9996    0\n",
              "9997    1\n",
              "9998    1\n",
              "9999    0\n",
              "Name: Exited, Length: 10000, dtype: int64"
            ]
          },
          "execution_count": 160,
          "metadata": {},
          "output_type": "execute_result"
        }
      ]
    },
    {
      "cell_type": "code",
      "metadata": {
        "colab": {
          "base_uri": "https://localhost:8080/",
          "height": 279
        },
        "id": "KaHEpFSaNbUC",
        "outputId": "ce31d964-f536-4b3c-9aff-c25c2e01538e"
      },
      "source": [
        "df_data[\"Exited\"].value_counts().plot(kind = \"bar\")\n"
      ],
      "execution_count": null,
      "outputs": [
        {
          "data": {
            "text/plain": [
              "<matplotlib.axes._subplots.AxesSubplot at 0x7febddb84f10>"
            ]
          },
          "execution_count": 161,
          "metadata": {},
          "output_type": "execute_result"
        },
        {
          "data": {
            "image/png": "[encoded data removed]",
            "text/plain": [
              "<Figure size 432x288 with 1 Axes>"
            ]
          },
          "metadata": {},
          "output_type": "display_data"
        }
      ]
    },
    {
      "cell_type": "markdown",
      "metadata": {
        "id": "vmUhksIsLHRe"
      },
      "source": [
        "Data Preprocessing"
      ]
    },
    {
      "cell_type": "code",
      "metadata": {
        "id": "EI_al7HSIGUR"
      },
      "source": [
        "#Create dummy variables for categorial columns\n",
        "geography = pd.get_dummies(X[\"Geography\"],drop_first=True)\n",
        "gender = pd.get_dummies(X['Gender'],drop_first=True)"
      ],
      "execution_count": null,
      "outputs": []
    },
    {
      "cell_type": "code",
      "metadata": {
        "colab": {
          "base_uri": "https://localhost:8080/",
          "height": 419
        },
        "id": "tdUpTRLnLldX",
        "outputId": "a1ac7dea-7a1b-4d77-9dc2-60d78e799adb"
      },
      "source": [
        "#add the newly created columns to the dataframe\n",
        "X = pd.concat([X, geography, gender], axis = 1)\n",
        "\n",
        "#remove the duplicates colums which had categorial value\n",
        "X = X.drop(['Geography','Gender'], axis = 1)\n",
        "X"
      ],
      "execution_count": null,
      "outputs": [
        {
          "data": {
            "text/html": [
              "<div>\n",
              "<style scoped>\n",
              "    .dataframe tbody tr th:only-of-type {\n",
              "        vertical-align: middle;\n",
              "    }\n",
              "\n",
              "    .dataframe tbody tr th {\n",
              "        vertical-align: top;\n",
              "    }\n",
              "\n",
              "    .dataframe thead th {\n",
              "        text-align: right;\n",
              "    }\n",
              "</style>\n",
              "<table border=\"1\" class=\"dataframe\">\n",
              "  <thead>\n",
              "    <tr style=\"text-align: right;\">\n",
              "      <th></th>\n",
              "      <th>CreditScore</th>\n",
              "      <th>Age</th>\n",
              "      <th>Tenure</th>\n",
              "      <th>Balance</th>\n",
              "      <th>NumOfProducts</th>\n",
              "      <th>HasCrCard</th>\n",
              "      <th>IsActiveMember</th>\n",
              "      <th>EstimatedSalary</th>\n",
              "      <th>Germany</th>\n",
              "      <th>Spain</th>\n",
              "      <th>Male</th>\n",
              "    </tr>\n",
              "  </thead>\n",
              "  <tbody>\n",
              "    <tr>\n",
              "      <th>0</th>\n",
              "      <td>619</td>\n",
              "      <td>42</td>\n",
              "      <td>2</td>\n",
              "      <td>0.00</td>\n",
              "      <td>1</td>\n",
              "      <td>1</td>\n",
              "      <td>1</td>\n",
              "      <td>101348.88</td>\n",
              "      <td>0</td>\n",
              "      <td>0</td>\n",
              "      <td>0</td>\n",
              "    </tr>\n",
              "    <tr>\n",
              "      <th>1</th>\n",
              "      <td>608</td>\n",
              "      <td>41</td>\n",
              "      <td>1</td>\n",
              "      <td>83807.86</td>\n",
              "      <td>1</td>\n",
              "      <td>0</td>\n",
              "      <td>1</td>\n",
              "      <td>112542.58</td>\n",
              "      <td>0</td>\n",
              "      <td>1</td>\n",
              "      <td>0</td>\n",
              "    </tr>\n",
              "    <tr>\n",
              "      <th>2</th>\n",
              "      <td>502</td>\n",
              "      <td>42</td>\n",
              "      <td>8</td>\n",
              "      <td>159660.80</td>\n",
              "      <td>3</td>\n",
              "      <td>1</td>\n",
              "      <td>0</td>\n",
              "      <td>113931.57</td>\n",
              "      <td>0</td>\n",
              "      <td>0</td>\n",
              "      <td>0</td>\n",
              "    </tr>\n",
              "    <tr>\n",
              "      <th>3</th>\n",
              "      <td>699</td>\n",
              "      <td>39</td>\n",
              "      <td>1</td>\n",
              "      <td>0.00</td>\n",
              "      <td>2</td>\n",
              "      <td>0</td>\n",
              "      <td>0</td>\n",
              "      <td>93826.63</td>\n",
              "      <td>0</td>\n",
              "      <td>0</td>\n",
              "      <td>0</td>\n",
              "    </tr>\n",
              "    <tr>\n",
              "      <th>4</th>\n",
              "      <td>850</td>\n",
              "      <td>43</td>\n",
              "      <td>2</td>\n",
              "      <td>125510.82</td>\n",
              "      <td>1</td>\n",
              "      <td>1</td>\n",
              "      <td>1</td>\n",
              "      <td>79084.10</td>\n",
              "      <td>0</td>\n",
              "      <td>1</td>\n",
              "      <td>0</td>\n",
              "    </tr>\n",
              "    <tr>\n",
              "      <th>...</th>\n",
              "      <td>...</td>\n",
              "      <td>...</td>\n",
              "      <td>...</td>\n",
              "      <td>...</td>\n",
              "      <td>...</td>\n",
              "      <td>...</td>\n",
              "      <td>...</td>\n",
              "      <td>...</td>\n",
              "      <td>...</td>\n",
              "      <td>...</td>\n",
              "      <td>...</td>\n",
              "    </tr>\n",
              "    <tr>\n",
              "      <th>9995</th>\n",
              "      <td>771</td>\n",
              "      <td>39</td>\n",
              "      <td>5</td>\n",
              "      <td>0.00</td>\n",
              "      <td>2</td>\n",
              "      <td>1</td>\n",
              "      <td>0</td>\n",
              "      <td>96270.64</td>\n",
              "      <td>0</td>\n",
              "      <td>0</td>\n",
              "      <td>1</td>\n",
              "    </tr>\n",
              "    <tr>\n",
              "      <th>9996</th>\n",
              "      <td>516</td>\n",
              "      <td>35</td>\n",
              "      <td>10</td>\n",
              "      <td>57369.61</td>\n",
              "      <td>1</td>\n",
              "      <td>1</td>\n",
              "      <td>1</td>\n",
              "      <td>101699.77</td>\n",
              "      <td>0</td>\n",
              "      <td>0</td>\n",
              "      <td>1</td>\n",
              "    </tr>\n",
              "    <tr>\n",
              "      <th>9997</th>\n",
              "      <td>709</td>\n",
              "      <td>36</td>\n",
              "      <td>7</td>\n",
              "      <td>0.00</td>\n",
              "      <td>1</td>\n",
              "      <td>0</td>\n",
              "      <td>1</td>\n",
              "      <td>42085.58</td>\n",
              "      <td>0</td>\n",
              "      <td>0</td>\n",
              "      <td>0</td>\n",
              "    </tr>\n",
              "    <tr>\n",
              "      <th>9998</th>\n",
              "      <td>772</td>\n",
              "      <td>42</td>\n",
              "      <td>3</td>\n",
              "      <td>75075.31</td>\n",
              "      <td>2</td>\n",
              "      <td>1</td>\n",
              "      <td>0</td>\n",
              "      <td>92888.52</td>\n",
              "      <td>1</td>\n",
              "      <td>0</td>\n",
              "      <td>1</td>\n",
              "    </tr>\n",
              "    <tr>\n",
              "      <th>9999</th>\n",
              "      <td>792</td>\n",
              "      <td>28</td>\n",
              "      <td>4</td>\n",
              "      <td>130142.79</td>\n",
              "      <td>1</td>\n",
              "      <td>1</td>\n",
              "      <td>0</td>\n",
              "      <td>38190.78</td>\n",
              "      <td>0</td>\n",
              "      <td>0</td>\n",
              "      <td>0</td>\n",
              "    </tr>\n",
              "  </tbody>\n",
              "</table>\n",
              "<p>10000 rows × 11 columns</p>\n",
              "</div>"
            ],
            "text/plain": [
              "      CreditScore  Age  Tenure  ...  Germany  Spain  Male\n",
              "0             619   42       2  ...        0      0     0\n",
              "1             608   41       1  ...        0      1     0\n",
              "2             502   42       8  ...        0      0     0\n",
              "3             699   39       1  ...        0      0     0\n",
              "4             850   43       2  ...        0      1     0\n",
              "...           ...  ...     ...  ...      ...    ...   ...\n",
              "9995          771   39       5  ...        0      0     1\n",
              "9996          516   35      10  ...        0      0     1\n",
              "9997          709   36       7  ...        0      0     0\n",
              "9998          772   42       3  ...        1      0     1\n",
              "9999          792   28       4  ...        0      0     0\n",
              "\n",
              "[10000 rows x 11 columns]"
            ]
          },
          "execution_count": 163,
          "metadata": {},
          "output_type": "execute_result"
        }
      ]
    },
    {
      "cell_type": "code",
      "metadata": {
        "colab": {
          "base_uri": "https://localhost:8080/",
          "height": 419
        },
        "id": "8YKx27ohLzYd",
        "outputId": "76cd7542-ee66-4b35-c120-e4ba39a8d387"
      },
      "source": [
        "X"
      ],
      "execution_count": null,
      "outputs": [
        {
          "data": {
            "text/html": [
              "<div>\n",
              "<style scoped>\n",
              "    .dataframe tbody tr th:only-of-type {\n",
              "        vertical-align: middle;\n",
              "    }\n",
              "\n",
              "    .dataframe tbody tr th {\n",
              "        vertical-align: top;\n",
              "    }\n",
              "\n",
              "    .dataframe thead th {\n",
              "        text-align: right;\n",
              "    }\n",
              "</style>\n",
              "<table border=\"1\" class=\"dataframe\">\n",
              "  <thead>\n",
              "    <tr style=\"text-align: right;\">\n",
              "      <th></th>\n",
              "      <th>CreditScore</th>\n",
              "      <th>Age</th>\n",
              "      <th>Tenure</th>\n",
              "      <th>Balance</th>\n",
              "      <th>NumOfProducts</th>\n",
              "      <th>HasCrCard</th>\n",
              "      <th>IsActiveMember</th>\n",
              "      <th>EstimatedSalary</th>\n",
              "      <th>Germany</th>\n",
              "      <th>Spain</th>\n",
              "      <th>Male</th>\n",
              "    </tr>\n",
              "  </thead>\n",
              "  <tbody>\n",
              "    <tr>\n",
              "      <th>0</th>\n",
              "      <td>619</td>\n",
              "      <td>42</td>\n",
              "      <td>2</td>\n",
              "      <td>0.00</td>\n",
              "      <td>1</td>\n",
              "      <td>1</td>\n",
              "      <td>1</td>\n",
              "      <td>101348.88</td>\n",
              "      <td>0</td>\n",
              "      <td>0</td>\n",
              "      <td>0</td>\n",
              "    </tr>\n",
              "    <tr>\n",
              "      <th>1</th>\n",
              "      <td>608</td>\n",
              "      <td>41</td>\n",
              "      <td>1</td>\n",
              "      <td>83807.86</td>\n",
              "      <td>1</td>\n",
              "      <td>0</td>\n",
              "      <td>1</td>\n",
              "      <td>112542.58</td>\n",
              "      <td>0</td>\n",
              "      <td>1</td>\n",
              "      <td>0</td>\n",
              "    </tr>\n",
              "    <tr>\n",
              "      <th>2</th>\n",
              "      <td>502</td>\n",
              "      <td>42</td>\n",
              "      <td>8</td>\n",
              "      <td>159660.80</td>\n",
              "      <td>3</td>\n",
              "      <td>1</td>\n",
              "      <td>0</td>\n",
              "      <td>113931.57</td>\n",
              "      <td>0</td>\n",
              "      <td>0</td>\n",
              "      <td>0</td>\n",
              "    </tr>\n",
              "    <tr>\n",
              "      <th>3</th>\n",
              "      <td>699</td>\n",
              "      <td>39</td>\n",
              "      <td>1</td>\n",
              "      <td>0.00</td>\n",
              "      <td>2</td>\n",
              "      <td>0</td>\n",
              "      <td>0</td>\n",
              "      <td>93826.63</td>\n",
              "      <td>0</td>\n",
              "      <td>0</td>\n",
              "      <td>0</td>\n",
              "    </tr>\n",
              "    <tr>\n",
              "      <th>4</th>\n",
              "      <td>850</td>\n",
              "      <td>43</td>\n",
              "      <td>2</td>\n",
              "      <td>125510.82</td>\n",
              "      <td>1</td>\n",
              "      <td>1</td>\n",
              "      <td>1</td>\n",
              "      <td>79084.10</td>\n",
              "      <td>0</td>\n",
              "      <td>1</td>\n",
              "      <td>0</td>\n",
              "    </tr>\n",
              "    <tr>\n",
              "      <th>...</th>\n",
              "      <td>...</td>\n",
              "      <td>...</td>\n",
              "      <td>...</td>\n",
              "      <td>...</td>\n",
              "      <td>...</td>\n",
              "      <td>...</td>\n",
              "      <td>...</td>\n",
              "      <td>...</td>\n",
              "      <td>...</td>\n",
              "      <td>...</td>\n",
              "      <td>...</td>\n",
              "    </tr>\n",
              "    <tr>\n",
              "      <th>9995</th>\n",
              "      <td>771</td>\n",
              "      <td>39</td>\n",
              "      <td>5</td>\n",
              "      <td>0.00</td>\n",
              "      <td>2</td>\n",
              "      <td>1</td>\n",
              "      <td>0</td>\n",
              "      <td>96270.64</td>\n",
              "      <td>0</td>\n",
              "      <td>0</td>\n",
              "      <td>1</td>\n",
              "    </tr>\n",
              "    <tr>\n",
              "      <th>9996</th>\n",
              "      <td>516</td>\n",
              "      <td>35</td>\n",
              "      <td>10</td>\n",
              "      <td>57369.61</td>\n",
              "      <td>1</td>\n",
              "      <td>1</td>\n",
              "      <td>1</td>\n",
              "      <td>101699.77</td>\n",
              "      <td>0</td>\n",
              "      <td>0</td>\n",
              "      <td>1</td>\n",
              "    </tr>\n",
              "    <tr>\n",
              "      <th>9997</th>\n",
              "      <td>709</td>\n",
              "      <td>36</td>\n",
              "      <td>7</td>\n",
              "      <td>0.00</td>\n",
              "      <td>1</td>\n",
              "      <td>0</td>\n",
              "      <td>1</td>\n",
              "      <td>42085.58</td>\n",
              "      <td>0</td>\n",
              "      <td>0</td>\n",
              "      <td>0</td>\n",
              "    </tr>\n",
              "    <tr>\n",
              "      <th>9998</th>\n",
              "      <td>772</td>\n",
              "      <td>42</td>\n",
              "      <td>3</td>\n",
              "      <td>75075.31</td>\n",
              "      <td>2</td>\n",
              "      <td>1</td>\n",
              "      <td>0</td>\n",
              "      <td>92888.52</td>\n",
              "      <td>1</td>\n",
              "      <td>0</td>\n",
              "      <td>1</td>\n",
              "    </tr>\n",
              "    <tr>\n",
              "      <th>9999</th>\n",
              "      <td>792</td>\n",
              "      <td>28</td>\n",
              "      <td>4</td>\n",
              "      <td>130142.79</td>\n",
              "      <td>1</td>\n",
              "      <td>1</td>\n",
              "      <td>0</td>\n",
              "      <td>38190.78</td>\n",
              "      <td>0</td>\n",
              "      <td>0</td>\n",
              "      <td>0</td>\n",
              "    </tr>\n",
              "  </tbody>\n",
              "</table>\n",
              "<p>10000 rows × 11 columns</p>\n",
              "</div>"
            ],
            "text/plain": [
              "      CreditScore  Age  Tenure  ...  Germany  Spain  Male\n",
              "0             619   42       2  ...        0      0     0\n",
              "1             608   41       1  ...        0      1     0\n",
              "2             502   42       8  ...        0      0     0\n",
              "3             699   39       1  ...        0      0     0\n",
              "4             850   43       2  ...        0      1     0\n",
              "...           ...  ...     ...  ...      ...    ...   ...\n",
              "9995          771   39       5  ...        0      0     1\n",
              "9996          516   35      10  ...        0      0     1\n",
              "9997          709   36       7  ...        0      0     0\n",
              "9998          772   42       3  ...        1      0     1\n",
              "9999          792   28       4  ...        0      0     0\n",
              "\n",
              "[10000 rows x 11 columns]"
            ]
          },
          "execution_count": 164,
          "metadata": {},
          "output_type": "execute_result"
        }
      ]
    },
    {
      "cell_type": "markdown",
      "metadata": {
        "id": "nEWsfJDtMFlT"
      },
      "source": [
        "Divide the data into train and test Split"
      ]
    },
    {
      "cell_type": "code",
      "metadata": {
        "colab": {
          "base_uri": "https://localhost:8080/"
        },
        "id": "TF7ne_nPL6jy",
        "outputId": "6a51535e-7fad-49ed-bf47-6b846267267f"
      },
      "source": [
        "X_train, X_test, Y_train, Y_test = train_test_split(X, Y, test_size = .15, random_state = 1)\n",
        "\n",
        "#print the shape of X_train and X_test\n",
        "print(X_train.shape, X_test.shape)"
      ],
      "execution_count": null,
      "outputs": [
        {
          "name": "stdout",
          "output_type": "stream",
          "text": [
            "(8500, 11) (1500, 11)\n"
          ]
        }
      ]
    },
    {
      "cell_type": "markdown",
      "metadata": {
        "id": "I_WGP6FNPyBy"
      },
      "source": [
        "Feature Scaling"
      ]
    },
    {
      "cell_type": "markdown",
      "metadata": {
        "id": "uo7ax17-b2A_"
      },
      "source": [
        ""
      ]
    },
    {
      "cell_type": "code",
      "metadata": {
        "id": "Rp5-9ebsPcFq"
      },
      "source": [
        "#scale the date to bring all the feature into same scale\n",
        "sc_scale = StandardScaler()\n",
        "X_train = sc_scale.fit_transform(X_train)\n",
        "X_test = sc_scale.transform(X_test)"
      ],
      "execution_count": null,
      "outputs": []
    },
    {
      "cell_type": "markdown",
      "metadata": {
        "id": "Z44yrALjQ2kl"
      },
      "source": [
        "Modelling"
      ]
    },
    {
      "cell_type": "code",
      "metadata": {
        "colab": {
          "background_save": true,
          "base_uri": "https://localhost:8080/"
        },
        "id": "Y8AJ6lCJP8Em",
        "outputId": "da0a81f3-b11a-4207-904f-f70a7240b2ff"
      },
      "source": [
        "#Initialising the ANN\n",
        "model = Sequential()\n",
        "\n",
        "#adding 1st hidden layer\n",
        "model.add(Dense(10, kernel_initializer = 'he_uniform',  activation = 'relu'))\n",
        "\n",
        "#adding 2nd dense layer\n",
        "model.add(Dense(10, kernel_initializer = 'he_uniform', activation = 'relu'))\n",
        "\n",
        "#Output layer\n",
        "model.add(Dense(1 , activation = 'sigmoid' ))\n",
        "\n",
        "#compile the model\n",
        "model.compile(optimizer = 'adam', loss = 'binary_crossentropy', metrics = ['accuracy'])\n",
        "\n",
        "#fit the model\n",
        "model_fit = model.fit(X_train, Y_train, validation_split = 0.2, batch_size = 10, epochs = 100)"
      ],
      "execution_count": null,
      "outputs": [
        {
          "name": "stdout",
          "output_type": "stream",
          "text": [
            "Epoch 1/100\n",
            "680/680 [==============================] - 2s 2ms/step - loss: 0.4880 - accuracy: 0.7985 - val_loss: 0.4607 - val_accuracy: 0.8006\n",
            "Epoch 2/100\n",
            "680/680 [==============================] - 1s 2ms/step - loss: 0.4375 - accuracy: 0.8113 - val_loss: 0.4366 - val_accuracy: 0.8106\n",
            "Epoch 3/100\n",
            "680/680 [==============================] - 1s 2ms/step - loss: 0.4200 - accuracy: 0.8204 - val_loss: 0.4234 - val_accuracy: 0.8147\n",
            "Epoch 4/100\n",
            "680/680 [==============================] - 1s 2ms/step - loss: 0.4060 - accuracy: 0.8241 - val_loss: 0.4075 - val_accuracy: 0.8153\n",
            "Epoch 5/100\n",
            "680/680 [==============================] - 1s 2ms/step - loss: 0.3918 - accuracy: 0.8260 - val_loss: 0.3909 - val_accuracy: 0.8294\n",
            "Epoch 6/100\n",
            "680/680 [==============================] - 1s 2ms/step - loss: 0.3790 - accuracy: 0.8376 - val_loss: 0.3785 - val_accuracy: 0.8418\n",
            "Epoch 7/100\n",
            "680/680 [==============================] - 1s 2ms/step - loss: 0.3681 - accuracy: 0.8484 - val_loss: 0.3706 - val_accuracy: 0.8418\n",
            "Epoch 8/100\n",
            "680/680 [==============================] - 1s 2ms/step - loss: 0.3590 - accuracy: 0.8534 - val_loss: 0.3576 - val_accuracy: 0.8482\n",
            "Epoch 9/100\n",
            "680/680 [==============================] - 1s 2ms/step - loss: 0.3543 - accuracy: 0.8551 - val_loss: 0.3538 - val_accuracy: 0.8518\n",
            "Epoch 10/100\n",
            "680/680 [==============================] - 1s 2ms/step - loss: 0.3509 - accuracy: 0.8550 - val_loss: 0.3515 - val_accuracy: 0.8535\n",
            "Epoch 11/100\n",
            "680/680 [==============================] - 1s 2ms/step - loss: 0.3489 - accuracy: 0.8588 - val_loss: 0.3473 - val_accuracy: 0.8541\n",
            "Epoch 12/100\n",
            "680/680 [==============================] - 1s 2ms/step - loss: 0.3470 - accuracy: 0.8600 - val_loss: 0.3475 - val_accuracy: 0.8494\n",
            "Epoch 13/100\n",
            "680/680 [==============================] - 1s 2ms/step - loss: 0.3455 - accuracy: 0.8619 - val_loss: 0.3468 - val_accuracy: 0.8576\n",
            "Epoch 14/100\n",
            "680/680 [==============================] - 1s 2ms/step - loss: 0.3445 - accuracy: 0.8594 - val_loss: 0.3456 - val_accuracy: 0.8547\n",
            "Epoch 15/100\n",
            "680/680 [==============================] - 1s 2ms/step - loss: 0.3432 - accuracy: 0.8596 - val_loss: 0.3420 - val_accuracy: 0.8624\n",
            "Epoch 16/100\n",
            "680/680 [==============================] - 1s 2ms/step - loss: 0.3422 - accuracy: 0.8621 - val_loss: 0.3416 - val_accuracy: 0.8582\n",
            "Epoch 17/100\n",
            "680/680 [==============================] - 1s 2ms/step - loss: 0.3412 - accuracy: 0.8601 - val_loss: 0.3399 - val_accuracy: 0.8588\n",
            "Epoch 18/100\n",
            "680/680 [==============================] - 1s 2ms/step - loss: 0.3402 - accuracy: 0.8588 - val_loss: 0.3439 - val_accuracy: 0.8535\n",
            "Epoch 19/100\n",
            "680/680 [==============================] - 1s 2ms/step - loss: 0.3396 - accuracy: 0.8612 - val_loss: 0.3411 - val_accuracy: 0.8612\n",
            "Epoch 20/100\n",
            "680/680 [==============================] - 1s 2ms/step - loss: 0.3394 - accuracy: 0.8618 - val_loss: 0.3405 - val_accuracy: 0.8582\n",
            "Epoch 21/100\n",
            "680/680 [==============================] - 1s 2ms/step - loss: 0.3380 - accuracy: 0.8616 - val_loss: 0.3378 - val_accuracy: 0.8618\n",
            "Epoch 22/100\n",
            "680/680 [==============================] - 1s 2ms/step - loss: 0.3364 - accuracy: 0.8622 - val_loss: 0.3445 - val_accuracy: 0.8565\n",
            "Epoch 23/100\n",
            "680/680 [==============================] - 1s 2ms/step - loss: 0.3368 - accuracy: 0.8622 - val_loss: 0.3375 - val_accuracy: 0.8582\n",
            "Epoch 24/100\n",
            "680/680 [==============================] - 1s 2ms/step - loss: 0.3361 - accuracy: 0.8632 - val_loss: 0.3398 - val_accuracy: 0.8600\n",
            "Epoch 25/100\n",
            "680/680 [==============================] - 1s 2ms/step - loss: 0.3356 - accuracy: 0.8641 - val_loss: 0.3383 - val_accuracy: 0.8588\n",
            "Epoch 26/100\n",
            "680/680 [==============================] - 1s 2ms/step - loss: 0.3352 - accuracy: 0.8638 - val_loss: 0.3389 - val_accuracy: 0.8541\n",
            "Epoch 27/100\n",
            "680/680 [==============================] - 1s 2ms/step - loss: 0.3347 - accuracy: 0.8640 - val_loss: 0.3374 - val_accuracy: 0.8588\n",
            "Epoch 28/100\n",
            "680/680 [==============================] - 1s 2ms/step - loss: 0.3340 - accuracy: 0.8635 - val_loss: 0.3382 - val_accuracy: 0.8594\n",
            "Epoch 29/100\n",
            "680/680 [==============================] - 1s 2ms/step - loss: 0.3333 - accuracy: 0.8638 - val_loss: 0.3386 - val_accuracy: 0.8612\n",
            "Epoch 30/100\n",
            "680/680 [==============================] - 1s 2ms/step - loss: 0.3337 - accuracy: 0.8631 - val_loss: 0.3359 - val_accuracy: 0.8594\n",
            "Epoch 31/100\n",
            "680/680 [==============================] - 1s 2ms/step - loss: 0.3321 - accuracy: 0.8643 - val_loss: 0.3373 - val_accuracy: 0.8553\n",
            "Epoch 32/100\n",
            "680/680 [==============================] - 1s 2ms/step - loss: 0.3319 - accuracy: 0.8651 - val_loss: 0.3357 - val_accuracy: 0.8547\n",
            "Epoch 33/100\n",
            "680/680 [==============================] - 1s 2ms/step - loss: 0.3316 - accuracy: 0.8640 - val_loss: 0.3354 - val_accuracy: 0.8629\n",
            "Epoch 34/100\n",
            "680/680 [==============================] - 1s 2ms/step - loss: 0.3301 - accuracy: 0.8640 - val_loss: 0.3405 - val_accuracy: 0.8529\n",
            "Epoch 35/100\n",
            "680/680 [==============================] - 1s 2ms/step - loss: 0.3312 - accuracy: 0.8635 - val_loss: 0.3360 - val_accuracy: 0.8600\n",
            "Epoch 36/100\n",
            "680/680 [==============================] - 1s 2ms/step - loss: 0.3295 - accuracy: 0.8643 - val_loss: 0.3328 - val_accuracy: 0.8612\n",
            "Epoch 37/100\n",
            "680/680 [==============================] - 1s 2ms/step - loss: 0.3292 - accuracy: 0.8656 - val_loss: 0.3349 - val_accuracy: 0.8594\n",
            "Epoch 38/100\n",
            "680/680 [==============================] - 1s 2ms/step - loss: 0.3288 - accuracy: 0.8668 - val_loss: 0.3321 - val_accuracy: 0.8618\n",
            "Epoch 39/100\n",
            "680/680 [==============================] - 1s 2ms/step - loss: 0.3284 - accuracy: 0.8660 - val_loss: 0.3335 - val_accuracy: 0.8594\n",
            "Epoch 40/100\n",
            "680/680 [==============================] - 1s 2ms/step - loss: 0.3271 - accuracy: 0.8643 - val_loss: 0.3350 - val_accuracy: 0.8582\n",
            "Epoch 41/100\n",
            "680/680 [==============================] - 1s 2ms/step - loss: 0.3278 - accuracy: 0.8649 - val_loss: 0.3330 - val_accuracy: 0.8618\n",
            "Epoch 42/100\n",
            "680/680 [==============================] - 1s 2ms/step - loss: 0.3271 - accuracy: 0.8637 - val_loss: 0.3304 - val_accuracy: 0.8635\n",
            "Epoch 43/100\n",
            "680/680 [==============================] - 1s 2ms/step - loss: 0.3258 - accuracy: 0.8666 - val_loss: 0.3298 - val_accuracy: 0.8629\n",
            "Epoch 44/100\n",
            "680/680 [==============================] - 1s 2ms/step - loss: 0.3247 - accuracy: 0.8669 - val_loss: 0.3305 - val_accuracy: 0.8641\n",
            "Epoch 45/100\n",
            "680/680 [==============================] - 1s 2ms/step - loss: 0.3251 - accuracy: 0.8644 - val_loss: 0.3305 - val_accuracy: 0.8635\n",
            "Epoch 46/100\n",
            "680/680 [==============================] - 1s 2ms/step - loss: 0.3249 - accuracy: 0.8674 - val_loss: 0.3298 - val_accuracy: 0.8624\n",
            "Epoch 47/100\n",
            "680/680 [==============================] - 1s 2ms/step - loss: 0.3244 - accuracy: 0.8663 - val_loss: 0.3295 - val_accuracy: 0.8618\n",
            "Epoch 48/100\n",
            "680/680 [==============================] - 1s 2ms/step - loss: 0.3242 - accuracy: 0.8679 - val_loss: 0.3291 - val_accuracy: 0.8629\n",
            "Epoch 49/100\n",
            "680/680 [==============================] - 1s 2ms/step - loss: 0.3234 - accuracy: 0.8679 - val_loss: 0.3319 - val_accuracy: 0.8606\n",
            "Epoch 50/100\n",
            "680/680 [==============================] - 1s 2ms/step - loss: 0.3236 - accuracy: 0.8649 - val_loss: 0.3277 - val_accuracy: 0.8659\n",
            "Epoch 51/100\n",
            "680/680 [==============================] - 1s 2ms/step - loss: 0.3224 - accuracy: 0.8654 - val_loss: 0.3293 - val_accuracy: 0.8659\n",
            "Epoch 52/100\n",
            "680/680 [==============================] - 1s 2ms/step - loss: 0.3232 - accuracy: 0.8644 - val_loss: 0.3315 - val_accuracy: 0.8624\n",
            "Epoch 53/100\n",
            "680/680 [==============================] - 1s 2ms/step - loss: 0.3215 - accuracy: 0.8676 - val_loss: 0.3333 - val_accuracy: 0.8600\n",
            "Epoch 54/100\n",
            "680/680 [==============================] - 1s 2ms/step - loss: 0.3224 - accuracy: 0.8674 - val_loss: 0.3301 - val_accuracy: 0.8612\n",
            "Epoch 55/100\n",
            "680/680 [==============================] - 1s 2ms/step - loss: 0.3214 - accuracy: 0.8675 - val_loss: 0.3300 - val_accuracy: 0.8641\n",
            "Epoch 56/100\n",
            "680/680 [==============================] - 1s 2ms/step - loss: 0.3208 - accuracy: 0.8672 - val_loss: 0.3362 - val_accuracy: 0.8582\n",
            "Epoch 57/100\n",
            "680/680 [==============================] - 1s 2ms/step - loss: 0.3213 - accuracy: 0.8676 - val_loss: 0.3313 - val_accuracy: 0.8635\n",
            "Epoch 58/100\n",
            "680/680 [==============================] - 1s 2ms/step - loss: 0.3209 - accuracy: 0.8691 - val_loss: 0.3308 - val_accuracy: 0.8618\n",
            "Epoch 59/100\n",
            "680/680 [==============================] - 1s 2ms/step - loss: 0.3206 - accuracy: 0.8678 - val_loss: 0.3284 - val_accuracy: 0.8629\n",
            "Epoch 60/100\n",
            "680/680 [==============================] - 1s 2ms/step - loss: 0.3201 - accuracy: 0.8681 - val_loss: 0.3327 - val_accuracy: 0.8618\n",
            "Epoch 61/100\n",
            "680/680 [==============================] - 1s 2ms/step - loss: 0.3201 - accuracy: 0.8688 - val_loss: 0.3295 - val_accuracy: 0.8629\n",
            "Epoch 62/100\n",
            "680/680 [==============================] - 1s 2ms/step - loss: 0.3199 - accuracy: 0.8657 - val_loss: 0.3304 - val_accuracy: 0.8612\n",
            "Epoch 63/100\n",
            "680/680 [==============================] - 1s 2ms/step - loss: 0.3187 - accuracy: 0.8669 - val_loss: 0.3376 - val_accuracy: 0.8624\n",
            "Epoch 64/100\n",
            "680/680 [==============================] - 1s 2ms/step - loss: 0.3192 - accuracy: 0.8696 - val_loss: 0.3296 - val_accuracy: 0.8641\n",
            "Epoch 65/100\n",
            "680/680 [==============================] - 1s 2ms/step - loss: 0.3182 - accuracy: 0.8690 - val_loss: 0.3331 - val_accuracy: 0.8624\n",
            "Epoch 66/100\n",
            "680/680 [==============================] - 1s 2ms/step - loss: 0.3187 - accuracy: 0.8693 - val_loss: 0.3311 - val_accuracy: 0.8641\n",
            "Epoch 67/100\n",
            "680/680 [==============================] - 1s 2ms/step - loss: 0.3177 - accuracy: 0.8679 - val_loss: 0.3292 - val_accuracy: 0.8671\n",
            "Epoch 68/100\n",
            "680/680 [==============================] - 1s 2ms/step - loss: 0.3182 - accuracy: 0.8671 - val_loss: 0.3318 - val_accuracy: 0.8635\n",
            "Epoch 69/100\n",
            "680/680 [==============================] - 1s 2ms/step - loss: 0.3175 - accuracy: 0.8675 - val_loss: 0.3300 - val_accuracy: 0.8629\n",
            "Epoch 70/100\n",
            "680/680 [==============================] - 1s 2ms/step - loss: 0.3166 - accuracy: 0.8684 - val_loss: 0.3326 - val_accuracy: 0.8629\n",
            "Epoch 71/100\n",
            "680/680 [==============================] - 1s 2ms/step - loss: 0.3166 - accuracy: 0.8679 - val_loss: 0.3301 - val_accuracy: 0.8629\n",
            "Epoch 72/100\n",
            "680/680 [==============================] - 1s 2ms/step - loss: 0.3159 - accuracy: 0.8693 - val_loss: 0.3356 - val_accuracy: 0.8671\n",
            "Epoch 73/100\n",
            "680/680 [==============================] - 1s 2ms/step - loss: 0.3165 - accuracy: 0.8676 - val_loss: 0.3310 - val_accuracy: 0.8653\n",
            "Epoch 74/100\n",
            "680/680 [==============================] - 1s 2ms/step - loss: 0.3154 - accuracy: 0.8672 - val_loss: 0.3322 - val_accuracy: 0.8659\n",
            "Epoch 75/100\n",
            "680/680 [==============================] - 1s 2ms/step - loss: 0.3160 - accuracy: 0.8659 - val_loss: 0.3330 - val_accuracy: 0.8624\n",
            "Epoch 76/100\n",
            "680/680 [==============================] - 1s 2ms/step - loss: 0.3154 - accuracy: 0.8700 - val_loss: 0.3339 - val_accuracy: 0.8624\n",
            "Epoch 77/100\n",
            "680/680 [==============================] - 1s 2ms/step - loss: 0.3157 - accuracy: 0.8682 - val_loss: 0.3316 - val_accuracy: 0.8647\n",
            "Epoch 78/100\n",
            "680/680 [==============================] - 1s 2ms/step - loss: 0.3150 - accuracy: 0.8679 - val_loss: 0.3307 - val_accuracy: 0.8659\n",
            "Epoch 79/100\n",
            "680/680 [==============================] - 1s 2ms/step - loss: 0.3148 - accuracy: 0.8701 - val_loss: 0.3375 - val_accuracy: 0.8535\n",
            "Epoch 80/100\n",
            "680/680 [==============================] - 1s 2ms/step - loss: 0.3161 - accuracy: 0.8681 - val_loss: 0.3304 - val_accuracy: 0.8624\n",
            "Epoch 81/100\n",
            "680/680 [==============================] - 1s 2ms/step - loss: 0.3149 - accuracy: 0.8710 - val_loss: 0.3331 - val_accuracy: 0.8612\n",
            "Epoch 82/100\n",
            "680/680 [==============================] - 1s 2ms/step - loss: 0.3155 - accuracy: 0.8676 - val_loss: 0.3332 - val_accuracy: 0.8659\n",
            "Epoch 83/100\n",
            "680/680 [==============================] - 1s 2ms/step - loss: 0.3151 - accuracy: 0.8684 - val_loss: 0.3357 - val_accuracy: 0.8612\n",
            "Epoch 84/100\n",
            "680/680 [==============================] - 1s 2ms/step - loss: 0.3145 - accuracy: 0.8694 - val_loss: 0.3314 - val_accuracy: 0.8624\n",
            "Epoch 85/100\n",
            "680/680 [==============================] - 1s 2ms/step - loss: 0.3153 - accuracy: 0.8688 - val_loss: 0.3302 - val_accuracy: 0.8653\n",
            "Epoch 86/100\n",
            "680/680 [==============================] - 1s 2ms/step - loss: 0.3137 - accuracy: 0.8693 - val_loss: 0.3360 - val_accuracy: 0.8606\n",
            "Epoch 87/100\n",
            "680/680 [==============================] - 1s 2ms/step - loss: 0.3150 - accuracy: 0.8678 - val_loss: 0.3306 - val_accuracy: 0.8659\n",
            "Epoch 88/100\n",
            "680/680 [==============================] - 1s 2ms/step - loss: 0.3145 - accuracy: 0.8691 - val_loss: 0.3322 - val_accuracy: 0.8618\n",
            "Epoch 89/100\n",
            "680/680 [==============================] - 1s 2ms/step - loss: 0.3144 - accuracy: 0.8701 - val_loss: 0.3303 - val_accuracy: 0.8624\n",
            "Epoch 90/100\n",
            "680/680 [==============================] - 1s 2ms/step - loss: 0.3139 - accuracy: 0.8682 - val_loss: 0.3307 - val_accuracy: 0.8694\n",
            "Epoch 91/100\n",
            "680/680 [==============================] - 1s 2ms/step - loss: 0.3140 - accuracy: 0.8675 - val_loss: 0.3295 - val_accuracy: 0.8665\n",
            "Epoch 92/100\n",
            "680/680 [==============================] - 1s 2ms/step - loss: 0.3136 - accuracy: 0.8699 - val_loss: 0.3331 - val_accuracy: 0.8659\n",
            "Epoch 93/100\n",
            "680/680 [==============================] - 1s 2ms/step - loss: 0.3138 - accuracy: 0.8679 - val_loss: 0.3331 - val_accuracy: 0.8635\n",
            "Epoch 94/100\n",
            "680/680 [==============================] - 1s 2ms/step - loss: 0.3131 - accuracy: 0.8666 - val_loss: 0.3314 - val_accuracy: 0.8665\n",
            "Epoch 95/100\n",
            "680/680 [==============================] - 1s 2ms/step - loss: 0.3145 - accuracy: 0.8672 - val_loss: 0.3311 - val_accuracy: 0.8671\n",
            "Epoch 96/100\n",
            "680/680 [==============================] - 1s 2ms/step - loss: 0.3134 - accuracy: 0.8700 - val_loss: 0.3318 - val_accuracy: 0.8647\n",
            "Epoch 97/100\n",
            "680/680 [==============================] - 1s 2ms/step - loss: 0.3132 - accuracy: 0.8685 - val_loss: 0.3332 - val_accuracy: 0.8629\n",
            "Epoch 98/100\n",
            "680/680 [==============================] - 1s 2ms/step - loss: 0.3140 - accuracy: 0.8669 - val_loss: 0.3325 - val_accuracy: 0.8676\n",
            "Epoch 99/100\n",
            "680/680 [==============================] - 1s 2ms/step - loss: 0.3128 - accuracy: 0.8672 - val_loss: 0.3338 - val_accuracy: 0.8612\n",
            "Epoch 100/100\n",
            "680/680 [==============================] - 1s 2ms/step - loss: 0.3132 - accuracy: 0.8707 - val_loss: 0.3306 - val_accuracy: 0.8665\n"
          ]
        }
      ]
    },
    {
      "cell_type": "code",
      "metadata": {
        "colab": {
          "background_save": true
        },
        "id": "3lvvHIoKRYFT",
        "outputId": "5655e1d2-51fe-4599-c8b6-71fee21243ca"
      },
      "source": [
        "#print the model summary\n",
        "model_fit.history.keys()"
      ],
      "execution_count": null,
      "outputs": [
        {
          "data": {
            "text/plain": [
              "dict_keys(['loss', 'accuracy', 'val_loss', 'val_accuracy'])"
            ]
          },
          "execution_count": null,
          "metadata": {},
          "output_type": "execute_result"
        }
      ]
    },
    {
      "cell_type": "code",
      "metadata": {
        "colab": {
          "background_save": true
        },
        "id": "3d0tsY9LSNSd",
        "outputId": "69e127e0-fd3f-4f0f-c740-62a200bea5c2"
      },
      "source": [
        "plt.plot(model_fit.history['accuracy'])\n",
        "plt.plot(model_fit.history['val_accuracy'])\n",
        "plt.title('model accuracy')\n",
        "plt.ylabel('accuracy')\n",
        "plt.xlabel('epoch')\n",
        "plt.legend(['train', 'validation'], loc='upper right')\n",
        "plt.show()"
      ],
      "execution_count": null,
      "outputs": [
        {
          "data": {
            "image/png": "[encoded data removed]",
            "text/plain": [
              "<Figure size 432x288 with 1 Axes>"
            ]
          },
          "metadata": {},
          "output_type": "display_data"
        }
      ]
    },
    {
      "cell_type": "code",
      "metadata": {
        "colab": {
          "background_save": true
        },
        "id": "_Pq3GrkhWvNP",
        "outputId": "f20738c5-bedd-467e-ae2e-2e522678575d"
      },
      "source": [
        "plt.plot(model_fit.history['loss'])\n",
        "plt.plot(model_fit.history['val_loss'])\n",
        "plt.title('model loss')\n",
        "plt.ylabel('loss')\n",
        "plt.xlabel('epoch')\n",
        "plt.legend(['train', 'validation'], loc='upper right')\n",
        "plt.show()"
      ],
      "execution_count": null,
      "outputs": [
        {
          "data": {
            "image/png": "[encoded data removed]",
            "text/plain": [
              "<Figure size 432x288 with 1 Axes>"
            ]
          },
          "metadata": {},
          "output_type": "display_data"
        }
      ]
    },
    {
      "cell_type": "markdown",
      "metadata": {
        "id": "XdfqqdpiX7Xl"
      },
      "source": [
        "Prediction"
      ]
    },
    {
      "cell_type": "code",
      "metadata": {
        "colab": {
          "background_save": true
        },
        "id": "ON2atdlIXr_O",
        "outputId": "969511d1-60c3-40f7-edb9-d08fb3b0a491"
      },
      "source": [
        "Y_pred = model.predict(X_test)\n",
        "print(Y_pred)"
      ],
      "execution_count": null,
      "outputs": [
        {
          "name": "stdout",
          "output_type": "stream",
          "text": [
            "[[0.01494497]\n",
            " [0.0539116 ]\n",
            " [0.03980243]\n",
            " ...\n",
            " [0.03440729]\n",
            " [0.05428869]\n",
            " [0.13332754]]\n"
          ]
        }
      ]
    },
    {
      "cell_type": "code",
      "metadata": {
        "colab": {
          "background_save": true
        },
        "id": "9hRD6zc5ldSI",
        "outputId": "2f0d19ad-9d62-46a8-dc37-6b81f2711068"
      },
      "source": [
        "#create ROC curve to decide the appropriate threshold\n",
        "from sklearn.metrics import roc_curve, auc\n",
        "Y_pred_ravel = Y_pred_tune1.ravel()\n",
        "\n",
        "nn_fpr_keras, nn_tpr_keras, nn_thresholds_keras = roc_curve(Y_test, Y_pred_ravel)\n",
        "auc_keras = auc(nn_fpr_keras, nn_tpr_keras)\n",
        "plt.plot(nn_fpr_keras, nn_tpr_keras, marker='.')\n",
        "plt.title(\"ROC curve\")\n",
        "plt.xlabel(\"False Postive rate\")\n",
        "plt.ylabel(\"True Postive rate\")"
      ],
      "execution_count": null,
      "outputs": [
        {
          "data": {
            "text/plain": [
              "Text(0, 0.5, 'True Postive rate')"
            ]
          },
          "execution_count": null,
          "metadata": {},
          "output_type": "execute_result"
        },
        {
          "data": {
            "image/png": "[encoded data removed]",
            "text/plain": [
              "<Figure size 432x288 with 1 Axes>"
            ]
          },
          "metadata": {},
          "output_type": "display_data"
        }
      ]
    },
    {
      "cell_type": "code",
      "metadata": {
        "colab": {
          "background_save": true
        },
        "id": "bTj8q6SFYRko",
        "outputId": "ae855ffa-dcc1-483b-ecfe-8d547e68e14c"
      },
      "source": [
        "#apply rule to dertemine the label of predictions\n",
        "Y_pred_final = np.where(Y_pred > 0.6, 1, 0)\n",
        "Y_pred_final"
      ],
      "execution_count": null,
      "outputs": [
        {
          "data": {
            "text/plain": [
              "array([[0],\n",
              "       [0],\n",
              "       [0],\n",
              "       ...,\n",
              "       [0],\n",
              "       [0],\n",
              "       [0]])"
            ]
          },
          "execution_count": null,
          "metadata": {},
          "output_type": "execute_result"
        }
      ]
    },
    {
      "cell_type": "code",
      "metadata": {
        "colab": {
          "background_save": true
        },
        "id": "sj1k4SojYdZf",
        "outputId": "0e1aa2cb-3ef7-483b-d6de-eb11cba2f9ef"
      },
      "source": [
        "#create confusion matrix for the prediction to see which samples were incorrectly classified\n",
        "res_matrix = confusion_matrix(Y_test, Y_pred_final)\n",
        "res_matrix"
      ],
      "execution_count": null,
      "outputs": [
        {
          "data": {
            "text/plain": [
              "array([[1149,   23],\n",
              "       [ 186,  142]])"
            ]
          },
          "execution_count": null,
          "metadata": {},
          "output_type": "execute_result"
        }
      ]
    },
    {
      "cell_type": "code",
      "metadata": {
        "colab": {
          "background_save": true
        },
        "id": "PkEdxvSUYewl",
        "outputId": "cbc5d3b6-ec2b-45f6-9f87-5f246414f519"
      },
      "source": [
        "# Calculate the Accuracy\n",
        "score = accuracy_score(Y_test, Y_pred_final)\n",
        "score "
      ],
      "execution_count": null,
      "outputs": [
        {
          "data": {
            "text/plain": [
              "0.8606666666666667"
            ]
          },
          "execution_count": null,
          "metadata": {},
          "output_type": "execute_result"
        }
      ]
    },
    {
      "cell_type": "markdown",
      "metadata": {
        "id": "_tADjiO2bOx8"
      },
      "source": [
        "Hyper parameter tunning"
      ]
    },
    {
      "cell_type": "code",
      "metadata": {
        "colab": {
          "background_save": true
        },
        "id": "qNKE86Rha1-y",
        "outputId": "fe2da6d1-1a05-4b2f-b2b0-63379848490f"
      },
      "source": [
        "#hyperparameter tunning using keras tunner\n",
        "!pip install keras-tuner\n",
        "import keras_tuner as kt"
      ],
      "execution_count": null,
      "outputs": [
        {
          "name": "stdout",
          "output_type": "stream",
          "text": [
            "Requirement already satisfied: keras-tuner in /usr/local/lib/python3.7/dist-packages (1.1.0)\n",
            "Requirement already satisfied: numpy in /usr/local/lib/python3.7/dist-packages (from keras-tuner) (1.19.5)\n",
            "Requirement already satisfied: requests in /usr/local/lib/python3.7/dist-packages (from keras-tuner) (2.23.0)\n",
            "Requirement already satisfied: kt-legacy in /usr/local/lib/python3.7/dist-packages (from keras-tuner) (1.0.4)\n",
            "Requirement already satisfied: tensorboard in /usr/local/lib/python3.7/dist-packages (from keras-tuner) (2.7.0)\n",
            "Requirement already satisfied: scipy in /usr/local/lib/python3.7/dist-packages (from keras-tuner) (1.4.1)\n",
            "Requirement already satisfied: packaging in /usr/local/lib/python3.7/dist-packages (from keras-tuner) (21.2)\n",
            "Requirement already satisfied: ipython in /usr/local/lib/python3.7/dist-packages (from keras-tuner) (5.5.0)\n",
            "Requirement already satisfied: simplegeneric>0.8 in /usr/local/lib/python3.7/dist-packages (from ipython->keras-tuner) (0.8.1)\n",
            "Requirement already satisfied: setuptools>=18.5 in /usr/local/lib/python3.7/dist-packages (from ipython->keras-tuner) (57.4.0)\n",
            "Requirement already satisfied: traitlets>=4.2 in /usr/local/lib/python3.7/dist-packages (from ipython->keras-tuner) (5.1.1)\n",
            "Requirement already satisfied: decorator in /usr/local/lib/python3.7/dist-packages (from ipython->keras-tuner) (4.4.2)\n",
            "Requirement already satisfied: pickleshare in /usr/local/lib/python3.7/dist-packages (from ipython->keras-tuner) (0.7.5)\n",
            "Requirement already satisfied: prompt-toolkit<2.0.0,>=1.0.4 in /usr/local/lib/python3.7/dist-packages (from ipython->keras-tuner) (1.0.18)\n",
            "Requirement already satisfied: pexpect in /usr/local/lib/python3.7/dist-packages (from ipython->keras-tuner) (4.8.0)\n",
            "Requirement already satisfied: pygments in /usr/local/lib/python3.7/dist-packages (from ipython->keras-tuner) (2.6.1)\n",
            "Requirement already satisfied: six>=1.9.0 in /usr/local/lib/python3.7/dist-packages (from prompt-toolkit<2.0.0,>=1.0.4->ipython->keras-tuner) (1.15.0)\n",
            "Requirement already satisfied: wcwidth in /usr/local/lib/python3.7/dist-packages (from prompt-toolkit<2.0.0,>=1.0.4->ipython->keras-tuner) (0.2.5)\n",
            "Requirement already satisfied: pyparsing<3,>=2.0.2 in /usr/local/lib/python3.7/dist-packages (from packaging->keras-tuner) (2.4.7)\n",
            "Requirement already satisfied: ptyprocess>=0.5 in /usr/local/lib/python3.7/dist-packages (from pexpect->ipython->keras-tuner) (0.7.0)\n",
            "Requirement already satisfied: chardet<4,>=3.0.2 in /usr/local/lib/python3.7/dist-packages (from requests->keras-tuner) (3.0.4)\n",
            "Requirement already satisfied: urllib3!=1.25.0,!=1.25.1,<1.26,>=1.21.1 in /usr/local/lib/python3.7/dist-packages (from requests->keras-tuner) (1.24.3)\n",
            "Requirement already satisfied: idna<3,>=2.5 in /usr/local/lib/python3.7/dist-packages (from requests->keras-tuner) (2.10)\n",
            "Requirement already satisfied: certifi>=2017.4.17 in /usr/local/lib/python3.7/dist-packages (from requests->keras-tuner) (2021.10.8)\n",
            "Requirement already satisfied: protobuf>=3.6.0 in /usr/local/lib/python3.7/dist-packages (from tensorboard->keras-tuner) (3.17.3)\n",
            "Requirement already satisfied: google-auth-oauthlib<0.5,>=0.4.1 in /usr/local/lib/python3.7/dist-packages (from tensorboard->keras-tuner) (0.4.6)\n",
            "Requirement already satisfied: absl-py>=0.4 in /usr/local/lib/python3.7/dist-packages (from tensorboard->keras-tuner) (0.12.0)\n",
            "Requirement already satisfied: markdown>=2.6.8 in /usr/local/lib/python3.7/dist-packages (from tensorboard->keras-tuner) (3.3.4)\n",
            "Requirement already satisfied: wheel>=0.26 in /usr/local/lib/python3.7/dist-packages (from tensorboard->keras-tuner) (0.37.0)\n",
            "Requirement already satisfied: tensorboard-data-server<0.7.0,>=0.6.0 in /usr/local/lib/python3.7/dist-packages (from tensorboard->keras-tuner) (0.6.1)\n",
            "Requirement already satisfied: google-auth<3,>=1.6.3 in /usr/local/lib/python3.7/dist-packages (from tensorboard->keras-tuner) (1.35.0)\n",
            "Requirement already satisfied: tensorboard-plugin-wit>=1.6.0 in /usr/local/lib/python3.7/dist-packages (from tensorboard->keras-tuner) (1.8.0)\n",
            "Requirement already satisfied: grpcio>=1.24.3 in /usr/local/lib/python3.7/dist-packages (from tensorboard->keras-tuner) (1.41.1)\n",
            "Requirement already satisfied: werkzeug>=0.11.15 in /usr/local/lib/python3.7/dist-packages (from tensorboard->keras-tuner) (1.0.1)\n",
            "Requirement already satisfied: cachetools<5.0,>=2.0.0 in /usr/local/lib/python3.7/dist-packages (from google-auth<3,>=1.6.3->tensorboard->keras-tuner) (4.2.4)\n",
            "Requirement already satisfied: pyasn1-modules>=0.2.1 in /usr/local/lib/python3.7/dist-packages (from google-auth<3,>=1.6.3->tensorboard->keras-tuner) (0.2.8)\n",
            "Requirement already satisfied: rsa<5,>=3.1.4 in /usr/local/lib/python3.7/dist-packages (from google-auth<3,>=1.6.3->tensorboard->keras-tuner) (4.7.2)\n",
            "Requirement already satisfied: requests-oauthlib>=0.7.0 in /usr/local/lib/python3.7/dist-packages (from google-auth-oauthlib<0.5,>=0.4.1->tensorboard->keras-tuner) (1.3.0)\n",
            "Requirement already satisfied: importlib-metadata in /usr/local/lib/python3.7/dist-packages (from markdown>=2.6.8->tensorboard->keras-tuner) (4.8.2)\n",
            "Requirement already satisfied: pyasn1<0.5.0,>=0.4.6 in /usr/local/lib/python3.7/dist-packages (from pyasn1-modules>=0.2.1->google-auth<3,>=1.6.3->tensorboard->keras-tuner) (0.4.8)\n",
            "Requirement already satisfied: oauthlib>=3.0.0 in /usr/local/lib/python3.7/dist-packages (from requests-oauthlib>=0.7.0->google-auth-oauthlib<0.5,>=0.4.1->tensorboard->keras-tuner) (3.1.1)\n",
            "Requirement already satisfied: typing-extensions>=3.6.4 in /usr/local/lib/python3.7/dist-packages (from importlib-metadata->markdown>=2.6.8->tensorboard->keras-tuner) (3.10.0.2)\n",
            "Requirement already satisfied: zipp>=0.5 in /usr/local/lib/python3.7/dist-packages (from importlib-metadata->markdown>=2.6.8->tensorboard->keras-tuner) (3.6.0)\n"
          ]
        }
      ]
    },
    {
      "cell_type": "code",
      "metadata": {
        "colab": {
          "background_save": true
        },
        "id": "RdXOhKBnGujK",
        "outputId": "e3557f54-e093-4741-b87b-636bde5e5651"
      },
      "source": [
        "#function for hyper parameter tunning\n",
        "def build_model(hp):\n",
        "    model = keras.Sequential()\n",
        "    for i in range(hp.Int('num_layers', 2, 20)):\n",
        "        model.add(Dense(units=hp.Int('units',min_value=32,max_value=512,step=32),activation= hp.Choice('dense_activation', values = ['relu', 'tanh'])))\n",
        "        model.add(Dropout(hp.Float('dropout',min_value=0.0,max_value=0.1,default=0.005,step=0.01)))\n",
        "    model.add(Dense(1, kernel_initializer= 'glorot_uniform', activation = 'sigmoid'))\n",
        "    model.compile(optimizer= keras.optimizers.Adam(hp.Choice('learning_rate', [1e-2, 1e-3, 1e-4])), loss = 'binary_crossentropy', metrics = ['accuracy'])\n",
        "    return model\n",
        "build_model(kt.HyperParameters())"
      ],
      "execution_count": null,
      "outputs": [
        {
          "data": {
            "text/plain": [
              "<keras.engine.sequential.Sequential at 0x7febdbf81990>"
            ]
          },
          "execution_count": null,
          "metadata": {},
          "output_type": "execute_result"
        }
      ]
    },
    {
      "cell_type": "code",
      "metadata": {
        "colab": {
          "background_save": true
        },
        "id": "GGSwNhoDGz_s"
      },
      "source": [
        "#initialise Random search\n",
        "tuner = kt.RandomSearch(hypermodel= build_model, objective='val_accuracy',max_trials=5, executions_per_trial= 2, overwrite=True)"
      ],
      "execution_count": null,
      "outputs": []
    },
    {
      "cell_type": "code",
      "metadata": {
        "colab": {
          "background_save": true
        },
        "id": "jOHUt8HxJrk-"
      },
      "source": [
        "#generate validation set \n",
        "#X_train_min, X_val, Y_train_min, Y_val = train_test_split(X, Y, test_size = .1, random_state = 1)\n",
        "#print(X_train_min.shape, X_val.shape, Y_train_min.shape, Y_val.shape)"
      ],
      "execution_count": null,
      "outputs": []
    },
    {
      "cell_type": "code",
      "metadata": {
        "colab": {
          "background_save": true
        },
        "id": "fPl_OLr7Oyfj",
        "outputId": "e30d9b7c-1be3-4dbb-ea24-30aaf8ed1690"
      },
      "source": [
        "#start the search and get best model\n",
        "tuner.search(X_train, Y_train, epochs= 10, validation_split =0.2)\n"
      ],
      "execution_count": null,
      "outputs": [
        {
          "name": "stdout",
          "output_type": "stream",
          "text": [
            "Trial 5 Complete [00h 02m 47s]\n",
            "val_accuracy: 0.7970588207244873\n",
            "\n",
            "Best val_accuracy So Far: 0.8626470565795898\n",
            "Total elapsed time: 00h 06m 24s\n",
            "INFO:tensorflow:Oracle triggered exit\n"
          ]
        }
      ]
    },
    {
      "cell_type": "code",
      "metadata": {
        "colab": {
          "background_save": true
        },
        "id": "OU_giIXqLZYS",
        "outputId": "78948445-1071-4f10-d354-f12f93d57b15"
      },
      "source": [
        "#summary of the random serach\n",
        "tuner.results_summary()"
      ],
      "execution_count": null,
      "outputs": [
        {
          "name": "stdout",
          "output_type": "stream",
          "text": [
            "Results summary\n",
            "Results in ./untitled_project\n",
            "Showing 10 best trials\n",
            "Objective(name='val_accuracy', direction='max')\n",
            "Trial summary\n",
            "Hyperparameters:\n",
            "num_layers: 2\n",
            "units: 480\n",
            "dense_activation: tanh\n",
            "dropout: 0.0\n",
            "learning_rate: 0.001\n",
            "Score: 0.8626470565795898\n",
            "Trial summary\n",
            "Hyperparameters:\n",
            "num_layers: 18\n",
            "units: 160\n",
            "dense_activation: relu\n",
            "dropout: 0.1\n",
            "learning_rate: 0.0001\n",
            "Score: 0.8544117510318756\n",
            "Trial summary\n",
            "Hyperparameters:\n",
            "num_layers: 16\n",
            "units: 256\n",
            "dense_activation: relu\n",
            "dropout: 0.09\n",
            "learning_rate: 0.0001\n",
            "Score: 0.8544117510318756\n",
            "Trial summary\n",
            "Hyperparameters:\n",
            "num_layers: 19\n",
            "units: 256\n",
            "dense_activation: tanh\n",
            "dropout: 0.04\n",
            "learning_rate: 0.001\n",
            "Score: 0.7970588207244873\n",
            "Trial summary\n",
            "Hyperparameters:\n",
            "num_layers: 14\n",
            "units: 384\n",
            "dense_activation: tanh\n",
            "dropout: 0.06\n",
            "learning_rate: 0.001\n",
            "Score: 0.7970588207244873\n"
          ]
        }
      ]
    },
    {
      "cell_type": "code",
      "metadata": {
        "colab": {
          "background_save": true
        },
        "id": "zrq8KGBkXvpz",
        "outputId": "6ce2ab29-8226-4af1-8d63-09596589c4e0"
      },
      "source": [
        "#get the best model configuration and build the model\n",
        "best_model = tuner.get_best_models(1)[0]\n",
        "best_model.build(input_shape=(None, 11, 11))\n",
        "best_model.summary()\n"
      ],
      "execution_count": null,
      "outputs": [
        {
          "name": "stdout",
          "output_type": "stream",
          "text": [
            "Model: \"sequential\"\n",
            "_________________________________________________________________\n",
            " Layer (type)                Output Shape              Param #   \n",
            "=================================================================\n",
            " dense (Dense)               (None, 11, 480)           5760      \n",
            "                                                                 \n",
            " dropout (Dropout)           (None, 11, 480)           0         \n",
            "                                                                 \n",
            " dense_1 (Dense)             (None, 11, 480)           230880    \n",
            "                                                                 \n",
            " dropout_1 (Dropout)         (None, 11, 480)           0         \n",
            "                                                                 \n",
            " dense_2 (Dense)             (None, 11, 1)             481       \n",
            "                                                                 \n",
            "=================================================================\n",
            "Total params: 237,121\n",
            "Trainable params: 237,121\n",
            "Non-trainable params: 0\n",
            "_________________________________________________________________\n"
          ]
        }
      ]
    },
    {
      "cell_type": "markdown",
      "metadata": {
        "id": "jY5NOD8UlFMv"
      },
      "source": [
        "Re-train the model using the best model from the random serach"
      ]
    },
    {
      "cell_type": "code",
      "metadata": {
        "colab": {
          "background_save": true
        },
        "id": "vW4UZ_WgYKIS",
        "outputId": "a44ea1fc-bb56-4a6d-ac60-79a2210eeeac"
      },
      "source": [
        "#Re train the model using full dataset\n",
        "best_model.fit(X_train, Y_train, epochs= 10)"
      ],
      "execution_count": null,
      "outputs": [
        {
          "name": "stdout",
          "output_type": "stream",
          "text": [
            "Epoch 1/10\n",
            "WARNING:tensorflow:Model was constructed with shape (None, 11, 11) for input KerasTensor(type_spec=TensorSpec(shape=(None, 11, 11), dtype=tf.float32, name='dense_input'), name='dense_input', description=\"created by layer 'dense_input'\"), but it was called on an input with incompatible shape (None, 11).\n",
            "WARNING:tensorflow:Model was constructed with shape (None, 11, 11) for input KerasTensor(type_spec=TensorSpec(shape=(None, 11, 11), dtype=tf.float32, name='dense_input'), name='dense_input', description=\"created by layer 'dense_input'\"), but it was called on an input with incompatible shape (None, 11).\n",
            "266/266 [==============================] - 1s 4ms/step - loss: 0.3400 - accuracy: 0.8596\n",
            "Epoch 2/10\n",
            "266/266 [==============================] - 1s 4ms/step - loss: 0.3373 - accuracy: 0.8604\n",
            "Epoch 3/10\n",
            "266/266 [==============================] - 1s 4ms/step - loss: 0.3405 - accuracy: 0.8611\n",
            "Epoch 4/10\n",
            "266/266 [==============================] - 1s 4ms/step - loss: 0.3383 - accuracy: 0.8606\n",
            "Epoch 5/10\n",
            "266/266 [==============================] - 1s 4ms/step - loss: 0.3344 - accuracy: 0.8607\n",
            "Epoch 6/10\n",
            "266/266 [==============================] - 1s 4ms/step - loss: 0.3309 - accuracy: 0.8631\n",
            "Epoch 7/10\n",
            "266/266 [==============================] - 1s 4ms/step - loss: 0.3288 - accuracy: 0.8625\n",
            "Epoch 8/10\n",
            "266/266 [==============================] - 1s 4ms/step - loss: 0.3299 - accuracy: 0.8628\n",
            "Epoch 9/10\n",
            "266/266 [==============================] - 1s 4ms/step - loss: 0.3260 - accuracy: 0.8676\n",
            "Epoch 10/10\n",
            "266/266 [==============================] - 1s 4ms/step - loss: 0.3235 - accuracy: 0.8656\n"
          ]
        },
        {
          "data": {
            "text/plain": [
              "<keras.callbacks.History at 0x7febe3003d10>"
            ]
          },
          "execution_count": null,
          "metadata": {},
          "output_type": "execute_result"
        }
      ]
    },
    {
      "cell_type": "code",
      "metadata": {
        "colab": {
          "background_save": true
        },
        "id": "7iooYmILZICq",
        "outputId": "46ddf705-229e-4bcd-b55d-a61a1c3969b8"
      },
      "source": [
        "#predict with the tuned model\n",
        "Y_pred_tune = best_model.predict(X_test)\n",
        "Y_pred_tune"
      ],
      "execution_count": null,
      "outputs": [
        {
          "name": "stdout",
          "output_type": "stream",
          "text": [
            "WARNING:tensorflow:Model was constructed with shape (None, 11, 11) for input KerasTensor(type_spec=TensorSpec(shape=(None, 11, 11), dtype=tf.float32, name='dense_input'), name='dense_input', description=\"created by layer 'dense_input'\"), but it was called on an input with incompatible shape (None, 11).\n"
          ]
        },
        {
          "data": {
            "text/plain": [
              "array([[0.02566001],\n",
              "       [0.079     ],\n",
              "       [0.04228202],\n",
              "       ...,\n",
              "       [0.08526614],\n",
              "       [0.20154405],\n",
              "       [0.2400755 ]], dtype=float32)"
            ]
          },
          "execution_count": null,
          "metadata": {},
          "output_type": "execute_result"
        }
      ]
    },
    {
      "cell_type": "code",
      "metadata": {
        "colab": {
          "background_save": true
        },
        "id": "EIcNXr01gNFr",
        "outputId": "775f65c0-0881-4244-a153-503f118c55cf"
      },
      "source": [
        "#create ROC curve to decide the appropriate threshold\n",
        "from sklearn.metrics import roc_curve, auc\n",
        "Y_pred = Y_pred_tune.ravel()\n",
        "\n",
        "nn_fpr_keras, nn_tpr_keras, nn_thresholds_keras = roc_curve(Y_test, Y_pred)\n",
        "auc_keras = auc(nn_fpr_keras, nn_tpr_keras)\n",
        "plt.plot(nn_fpr_keras, nn_tpr_keras, marker='.')\n",
        "plt.title(\"ROC curve\")\n",
        "plt.xlabel(\"False Postive rate\")\n",
        "plt.ylabel(\"True Postive rate\")\n"
      ],
      "execution_count": null,
      "outputs": [
        {
          "data": {
            "text/plain": [
              "Text(0, 0.5, 'True Postive rate')"
            ]
          },
          "execution_count": null,
          "metadata": {},
          "output_type": "execute_result"
        },
        {
          "data": {
            "image/png": "[encoded data removed]",
            "text/plain": [
              "<Figure size 432x288 with 1 Axes>"
            ]
          },
          "metadata": {},
          "output_type": "display_data"
        }
      ]
    },
    {
      "cell_type": "code",
      "metadata": {
        "colab": {
          "base_uri": "https://localhost:8080/"
        },
        "id": "uXFBq2EgZOKY",
        "outputId": "acf8e1a8-aea9-4cda-c197-0698dbb69e7c"
      },
      "source": [
        "#apply rule to find predicted class\n",
        "Y_pred_final_tune = np.where(Y_pred_tune > 0.6, 1, 0)\n",
        "Y_pred_final_tune"
      ],
      "execution_count": 232,
      "outputs": [
        {
          "output_type": "execute_result",
          "data": {
            "text/plain": [
              "array([[0],\n",
              "       [0],\n",
              "       [0],\n",
              "       ...,\n",
              "       [0],\n",
              "       [0],\n",
              "       [0]])"
            ]
          },
          "metadata": {},
          "execution_count": 232
        }
      ]
    },
    {
      "cell_type": "code",
      "metadata": {
        "colab": {
          "base_uri": "https://localhost:8080/"
        },
        "id": "AmBedwESZQEl",
        "outputId": "aa6e86c1-d02a-43e3-d73f-8a9c91f47c8e"
      },
      "source": [
        "#Confusion matrix to misclassifications\n",
        "res_matrix = confusion_matrix(Y_test, Y_pred_final_tune)\n",
        "res_matrix"
      ],
      "execution_count": 233,
      "outputs": [
        {
          "output_type": "execute_result",
          "data": {
            "text/plain": [
              "array([[1134,   38],\n",
              "       [ 158,  170]])"
            ]
          },
          "metadata": {},
          "execution_count": 233
        }
      ]
    },
    {
      "cell_type": "code",
      "metadata": {
        "colab": {
          "base_uri": "https://localhost:8080/"
        },
        "id": "FLJo-e75Zc_e",
        "outputId": "89680b63-85b5-410e-e392-87a640c9e80b"
      },
      "source": [
        "#accuracy score\n",
        "score = accuracy_score(Y_test, Y_pred_final_tune)\n",
        "score "
      ],
      "execution_count": 234,
      "outputs": [
        {
          "output_type": "execute_result",
          "data": {
            "text/plain": [
              "0.8693333333333333"
            ]
          },
          "metadata": {},
          "execution_count": 234
        }
      ]
    },
    {
      "cell_type": "markdown",
      "metadata": {
        "id": "cba96ghpjw4V"
      },
      "source": [
        "Re-train the model using the best hyper parameter from Random serach\n",
        "\n",
        "---\n",
        "\n"
      ]
    },
    {
      "cell_type": "code",
      "metadata": {
        "colab": {
          "background_save": true
        },
        "id": "WEaOZY3lXFis",
        "outputId": "ea2e240b-5dab-4403-ba6d-40f7a4ceb678"
      },
      "source": [
        "#retain using the best parameter\n",
        "best_param = tuner.get_best_hyperparameters(1)[0]\n",
        "print(best_param.values)\n",
        "best_model1 = tuner.hypermodel.build(best_param)\n",
        "best_model1.build(input_shape=(None, 11, 11))\n",
        "best_model1.summary()\n"
      ],
      "execution_count": null,
      "outputs": [
        {
          "name": "stdout",
          "output_type": "stream",
          "text": [
            "{'num_layers': 2, 'units': 480, 'dense_activation': 'tanh', 'dropout': 0.0, 'learning_rate': 0.001}\n",
            "Model: \"sequential_1\"\n",
            "_________________________________________________________________\n",
            " Layer (type)                Output Shape              Param #   \n",
            "=================================================================\n",
            " dense_3 (Dense)             (None, 11, 480)           5760      \n",
            "                                                                 \n",
            " dropout_2 (Dropout)         (None, 11, 480)           0         \n",
            "                                                                 \n",
            " dense_4 (Dense)             (None, 11, 480)           230880    \n",
            "                                                                 \n",
            " dropout_3 (Dropout)         (None, 11, 480)           0         \n",
            "                                                                 \n",
            " dense_5 (Dense)             (None, 11, 1)             481       \n",
            "                                                                 \n",
            "=================================================================\n",
            "Total params: 237,121\n",
            "Trainable params: 237,121\n",
            "Non-trainable params: 0\n",
            "_________________________________________________________________\n"
          ]
        }
      ]
    },
    {
      "cell_type": "code",
      "metadata": {
        "colab": {
          "background_save": true
        },
        "id": "9vqXh5xVwC55",
        "outputId": "4e3ffd8a-2f95-4eb9-8b21-aa20d3a43de2"
      },
      "source": [
        "best_model1.fit(X_train, Y_train, epochs= 10)"
      ],
      "execution_count": null,
      "outputs": [
        {
          "name": "stdout",
          "output_type": "stream",
          "text": [
            "Epoch 1/10\n",
            "WARNING:tensorflow:Model was constructed with shape (None, 11, 11) for input KerasTensor(type_spec=TensorSpec(shape=(None, 11, 11), dtype=tf.float32, name='dense_3_input'), name='dense_3_input', description=\"created by layer 'dense_3_input'\"), but it was called on an input with incompatible shape (None, 11).\n",
            "WARNING:tensorflow:Model was constructed with shape (None, 11, 11) for input KerasTensor(type_spec=TensorSpec(shape=(None, 11, 11), dtype=tf.float32, name='dense_3_input'), name='dense_3_input', description=\"created by layer 'dense_3_input'\"), but it was called on an input with incompatible shape (None, 11).\n",
            "266/266 [==============================] - 1s 4ms/step - loss: 0.4603 - accuracy: 0.7976\n",
            "Epoch 2/10\n",
            "266/266 [==============================] - 1s 4ms/step - loss: 0.3714 - accuracy: 0.8439\n",
            "Epoch 3/10\n",
            "266/266 [==============================] - 1s 4ms/step - loss: 0.3548 - accuracy: 0.8562\n",
            "Epoch 4/10\n",
            "266/266 [==============================] - 1s 4ms/step - loss: 0.3493 - accuracy: 0.8560\n",
            "Epoch 5/10\n",
            "266/266 [==============================] - 1s 4ms/step - loss: 0.3455 - accuracy: 0.8561\n",
            "Epoch 6/10\n",
            "266/266 [==============================] - 1s 4ms/step - loss: 0.3421 - accuracy: 0.8585\n",
            "Epoch 7/10\n",
            "266/266 [==============================] - 1s 4ms/step - loss: 0.3375 - accuracy: 0.8612\n",
            "Epoch 8/10\n",
            "266/266 [==============================] - 1s 4ms/step - loss: 0.3384 - accuracy: 0.8600\n",
            "Epoch 9/10\n",
            "266/266 [==============================] - 1s 4ms/step - loss: 0.3399 - accuracy: 0.8609\n",
            "Epoch 10/10\n",
            "266/266 [==============================] - 1s 3ms/step - loss: 0.3377 - accuracy: 0.8609\n"
          ]
        },
        {
          "data": {
            "text/plain": [
              "<keras.callbacks.History at 0x7febdfa61b10>"
            ]
          },
          "execution_count": null,
          "metadata": {},
          "output_type": "execute_result"
        }
      ]
    },
    {
      "cell_type": "code",
      "metadata": {
        "colab": {
          "background_save": true
        },
        "id": "qc9A-u6hyMr1",
        "outputId": "fd9c40ed-9bc1-4f29-ce1a-bd87356cfcca"
      },
      "source": [
        "#predict with the tuned model\n",
        "Y_pred_tune1 = best_model1.predict(X_test)\n",
        "Y_pred_tune1"
      ],
      "execution_count": null,
      "outputs": [
        {
          "name": "stdout",
          "output_type": "stream",
          "text": [
            "WARNING:tensorflow:Model was constructed with shape (None, 11, 11) for input KerasTensor(type_spec=TensorSpec(shape=(None, 11, 11), dtype=tf.float32, name='dense_3_input'), name='dense_3_input', description=\"created by layer 'dense_3_input'\"), but it was called on an input with incompatible shape (None, 11).\n"
          ]
        },
        {
          "data": {
            "text/plain": [
              "array([[0.04344833],\n",
              "       [0.08900088],\n",
              "       [0.05960342],\n",
              "       ...,\n",
              "       [0.07726082],\n",
              "       [0.35960132],\n",
              "       [0.20608294]], dtype=float32)"
            ]
          },
          "execution_count": null,
          "metadata": {},
          "output_type": "execute_result"
        }
      ]
    },
    {
      "cell_type": "code",
      "metadata": {
        "colab": {
          "background_save": true
        },
        "id": "vdkkQlCAjnM0",
        "outputId": "c391f966-6f39-4578-f172-9d3703ac58a1"
      },
      "source": [
        "#create ROC curve to decide the appropriate threshold\n",
        "from sklearn.metrics import roc_curve, auc\n",
        "Y_pred1 = Y_pred_tune1.ravel()\n",
        "\n",
        "nn_fpr_keras, nn_tpr_keras, nn_thresholds_keras = roc_curve(Y_test, Y_pred1)\n",
        "auc_keras = auc(nn_fpr_keras, nn_tpr_keras)\n",
        "plt.plot(nn_fpr_keras, nn_tpr_keras, marker='.')\n",
        "plt.title(\"ROC curve\")\n",
        "plt.xlabel(\"False Postive rate\")\n",
        "plt.ylabel(\"True Postive rate\")"
      ],
      "execution_count": null,
      "outputs": [
        {
          "data": {
            "text/plain": [
              "Text(0, 0.5, 'True Postive rate')"
            ]
          },
          "execution_count": null,
          "metadata": {},
          "output_type": "execute_result"
        },
        {
          "data": {
            "image/png": "[encoded data removed]",
            "text/plain": [
              "<Figure size 432x288 with 1 Axes>"
            ]
          },
          "metadata": {},
          "output_type": "display_data"
        }
      ]
    },
    {
      "cell_type": "code",
      "metadata": {
        "colab": {
          "base_uri": "https://localhost:8080/"
        },
        "id": "CJz3KaXWy4Tx",
        "outputId": "1970a406-5468-4415-d7e5-372fa82752b5"
      },
      "source": [
        "#apply rule to find predicted class\n",
        "Y_pred_final_tune1 = np.where(Y_pred_tune1 > 0.6, 1, 0)\n",
        "Y_pred_final_tune1"
      ],
      "execution_count": 229,
      "outputs": [
        {
          "output_type": "execute_result",
          "data": {
            "text/plain": [
              "array([[0],\n",
              "       [0],\n",
              "       [0],\n",
              "       ...,\n",
              "       [0],\n",
              "       [0],\n",
              "       [0]])"
            ]
          },
          "metadata": {},
          "execution_count": 229
        }
      ]
    },
    {
      "cell_type": "code",
      "metadata": {
        "colab": {
          "base_uri": "https://localhost:8080/"
        },
        "id": "9vZBJDyzzEhC",
        "outputId": "8ce82f06-a9ab-46e8-d29a-ea81fa40d004"
      },
      "source": [
        "#Confusion matrix to misclassifications\n",
        "res_matrix = confusion_matrix(Y_test, Y_pred_final_tune1)\n",
        "res_matrix\n"
      ],
      "execution_count": 230,
      "outputs": [
        {
          "output_type": "execute_result",
          "data": {
            "text/plain": [
              "array([[1143,   29],\n",
              "       [ 182,  146]])"
            ]
          },
          "metadata": {},
          "execution_count": 230
        }
      ]
    },
    {
      "cell_type": "code",
      "metadata": {
        "colab": {
          "base_uri": "https://localhost:8080/"
        },
        "id": "ccMle32I1wxu",
        "outputId": "3404ec57-2739-4a78-f8fc-18763e1a9ae6"
      },
      "source": [
        "#accuracy score\n",
        "score = accuracy_score(Y_test, Y_pred_final_tune)\n",
        "score "
      ],
      "execution_count": 231,
      "outputs": [
        {
          "output_type": "execute_result",
          "data": {
            "text/plain": [
              "0.8693333333333333"
            ]
          },
          "metadata": {},
          "execution_count": 231
        }
      ]
    },
    {
      "cell_type": "code",
      "metadata": {
        "colab": {
          "background_save": true
        },
        "id": "X0PEMgGm2tZk"
      },
      "source": [
        ""
      ],
      "execution_count": null,
      "outputs": []
    }
  ]
}